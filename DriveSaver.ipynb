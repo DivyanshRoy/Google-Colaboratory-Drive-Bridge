{
  "nbformat": 4,
  "nbformat_minor": 0,
  "metadata": {
    "colab": {
      "name": "DriveSaver.ipynb",
      "version": "0.3.2",
      "provenance": [],
      "collapsed_sections": []
    },
    "kernelspec": {
      "name": "python3",
      "display_name": "Python 3"
    },
    "accelerator": "GPU"
  },
  "cells": [
    {
      "metadata": {
        "id": "7iihFgNJjMFZ",
        "colab_type": "text"
      },
      "cell_type": "markdown",
      "source": [
        "# Upload Files from Google Colaboratory to Drive"
      ]
    },
    {
      "metadata": {
        "id": "0DIUr_6YjvuX",
        "colab_type": "text"
      },
      "cell_type": "markdown",
      "source": [
        "#### View files present in Colab Runtime"
      ]
    },
    {
      "metadata": {
        "id": "axrJFK0qjnab",
        "colab_type": "code",
        "colab": {
          "base_uri": "https://localhost:8080/",
          "height": 34
        },
        "outputId": "b1193b34-2d08-4841-d831-4b1488b00abd"
      },
      "cell_type": "code",
      "source": [
        "!ls"
      ],
      "execution_count": 1,
      "outputs": [
        {
          "output_type": "stream",
          "text": [
            " adc.json  'Divyansh Kumar Roy.docx'   sample_data\n"
          ],
          "name": "stdout"
        }
      ]
    },
    {
      "metadata": {
        "id": "zkK8hPCxjUEj",
        "colab_type": "text"
      },
      "cell_type": "markdown",
      "source": [
        "#### Required Input: Name of Files to be uploaded"
      ]
    },
    {
      "metadata": {
        "id": "Lmdw7XeXjXj4",
        "colab_type": "code",
        "colab": {}
      },
      "cell_type": "code",
      "source": [
        "filenames = ['Divyansh Kumar Roy.docx']"
      ],
      "execution_count": 0,
      "outputs": []
    },
    {
      "metadata": {
        "id": "Z3cA9t2tjuEn",
        "colab_type": "text"
      },
      "cell_type": "markdown",
      "source": [
        "#### Connect to Google Drive"
      ]
    },
    {
      "metadata": {
        "id": "MRsXLWuRD0Bc",
        "colab_type": "code",
        "colab": {}
      },
      "cell_type": "code",
      "source": [
        "!pip install -U -q PyDrive\n",
        "\n",
        "from pydrive.auth import GoogleAuth\n",
        "from pydrive.drive import GoogleDrive\n",
        "from google.colab import auth\n",
        "from oauth2client.client import GoogleCredentials\n",
        "\n",
        "\n",
        "\n",
        "# 1. Authenticate and create the PyDrive client.\n",
        "auth.authenticate_user()\n",
        "gauth = GoogleAuth()\n",
        "gauth.credentials = GoogleCredentials.get_application_default()\n",
        "drive = GoogleDrive(gauth)\n"
      ],
      "execution_count": 0,
      "outputs": []
    },
    {
      "metadata": {
        "id": "fqI39uqlj732",
        "colab_type": "text"
      },
      "cell_type": "markdown",
      "source": [
        "#### Upload Files"
      ]
    },
    {
      "metadata": {
        "id": "28JPN075vKp2",
        "colab_type": "code",
        "colab": {}
      },
      "cell_type": "code",
      "source": [
        "ids = []\n",
        "\n",
        "for i in range(len(filenames)):\n",
        "  uploaded = drive.CreateFile({'MyTitle': 'Sample-upload.txt'})\n",
        "  uploaded.SetContentFile(filenames[i])\n",
        "  uploaded.Upload()\n",
        "  ids.append(uploaded.get('id'))"
      ],
      "execution_count": 0,
      "outputs": []
    },
    {
      "metadata": {
        "id": "vSKwGuD_j_0c",
        "colab_type": "text"
      },
      "cell_type": "markdown",
      "source": [
        "#### Get Sharable links of uploaded files"
      ]
    },
    {
      "metadata": {
        "id": "jlb6xyvdiCgD",
        "colab_type": "code",
        "colab": {}
      },
      "cell_type": "code",
      "source": [
        "def ids2link(ids):\n",
        "  return \"https://drive.google.com/open?id=\"+ids"
      ],
      "execution_count": 0,
      "outputs": []
    },
    {
      "metadata": {
        "id": "Mjg2IdloD72P",
        "colab_type": "code",
        "outputId": "46625128-12bc-423b-ced6-bdd3ecadffee",
        "colab": {
          "base_uri": "https://localhost:8080/",
          "height": 51
        }
      },
      "cell_type": "code",
      "source": [
        "links = [ids2link(id) for id in ids]\n",
        "print(links)\n",
        "print(filenames)"
      ],
      "execution_count": 6,
      "outputs": [
        {
          "output_type": "stream",
          "text": [
            "['https://drive.google.com/open?id=1TwOQHI8m9A2IOKcrM3q_grRAtPUaS9b7']\n",
            "['Divyansh Kumar Roy.docx']\n"
          ],
          "name": "stdout"
        }
      ]
    }
  ]
}
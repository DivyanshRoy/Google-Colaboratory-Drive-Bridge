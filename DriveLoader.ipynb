{
  "nbformat": 4,
  "nbformat_minor": 0,
  "metadata": {
    "colab": {
      "name": "DriveLoader.ipynb",
      "version": "0.3.2",
      "provenance": []
    },
    "kernelspec": {
      "name": "python3",
      "display_name": "Python 3"
    },
    "accelerator": "GPU"
  },
  "cells": [
    {
      "metadata": {
        "id": "zSB-Lpcclllw",
        "colab_type": "text"
      },
      "cell_type": "markdown",
      "source": [
        "# Load Files from Google Drive to Colaboratory"
      ]
    },
    {
      "metadata": {
        "id": "rEvNcvV9mWCI",
        "colab_type": "text"
      },
      "cell_type": "markdown",
      "source": [
        "#### Required Inputs: File Names, Sharable Links"
      ]
    },
    {
      "metadata": {
        "id": "wQyROx-xmiZ_",
        "colab_type": "code",
        "colab": {}
      },
      "cell_type": "code",
      "source": [
        "filenames = ['Divyansh Kumar Roy.docx']\n",
        "sharable_links = ['https://drive.google.com/open?id=0B0MuMbqyu1I6QURqYzhWRF94ZG8']"
      ],
      "execution_count": 0,
      "outputs": []
    },
    {
      "metadata": {
        "id": "0KAfXN0TlllW",
        "colab_type": "text"
      },
      "cell_type": "markdown",
      "source": [
        "#### Connect to Google Drive"
      ]
    },
    {
      "metadata": {
        "id": "1-cMv1QZ7hlW",
        "colab_type": "code",
        "colab": {}
      },
      "cell_type": "code",
      "source": [
        "!pip install -U -q PyDrive\n",
        "\n",
        "from pydrive.auth import GoogleAuth\n",
        "from pydrive.drive import GoogleDrive\n",
        "from google.colab import auth\n",
        "from oauth2client.client import GoogleCredentials\n",
        "\n",
        "auth.authenticate_user()\n",
        "gauth = GoogleAuth()\n",
        "gauth.credentials = GoogleCredentials.get_application_default()\n",
        "drive = GoogleDrive(gauth)\n"
      ],
      "execution_count": 0,
      "outputs": []
    },
    {
      "metadata": {
        "id": "yL5IhsG0l2KZ",
        "colab_type": "text"
      },
      "cell_type": "markdown",
      "source": [
        "#### Convert Sharable Links to Document Ids"
      ]
    },
    {
      "metadata": {
        "id": "5aMy2-BcfNkA",
        "colab_type": "code",
        "colab": {}
      },
      "cell_type": "code",
      "source": [
        "def link2id(link):\n",
        "  pos = link.find(\"=\")\n",
        "  return link[pos+1:]\n",
        "\n",
        "ids = [link2id(link) for link in sharable_links]"
      ],
      "execution_count": 0,
      "outputs": []
    },
    {
      "metadata": {
        "id": "Nfz16JKzl9qL",
        "colab_type": "text"
      },
      "cell_type": "markdown",
      "source": [
        "#### Download Files"
      ]
    },
    {
      "metadata": {
        "id": "po9ALsIo7vKK",
        "colab_type": "code",
        "outputId": "98068ce2-fa7b-4af9-d9c3-809f37d63a7d",
        "colab": {
          "base_uri": "https://localhost:8080/",
          "height": 34
        }
      },
      "cell_type": "code",
      "source": [
        "for i in range(len(ids)):\n",
        "  downloaded = drive.CreateFile({'id': ids[i]})\n",
        "  downloaded.GetContentFile(filenames[i])\n",
        "  print(filenames[i],\" loaded.\")\n",
        "  "
      ],
      "execution_count": 4,
      "outputs": [
        {
          "output_type": "stream",
          "text": [
            "Divyansh Kumar Roy.docx  loaded.\n"
          ],
          "name": "stdout"
        }
      ]
    },
    {
      "metadata": {
        "id": "T-ynFEqbmEf4",
        "colab_type": "text"
      },
      "cell_type": "markdown",
      "source": [
        "#### View files present in Colab Runtime"
      ]
    },
    {
      "metadata": {
        "id": "7EADrgtNg9sE",
        "colab_type": "code",
        "colab": {
          "base_uri": "https://localhost:8080/",
          "height": 34
        },
        "outputId": "ff15fc9d-0ee3-47ff-acae-73e1d6d670d9"
      },
      "cell_type": "code",
      "source": [
        "!ls"
      ],
      "execution_count": 5,
      "outputs": [
        {
          "output_type": "stream",
          "text": [
            " adc.json  'Divyansh Kumar Roy.docx'   sample_data\n"
          ],
          "name": "stdout"
        }
      ]
    }
  ]
}